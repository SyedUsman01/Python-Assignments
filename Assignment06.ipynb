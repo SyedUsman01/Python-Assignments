{
 "cells": [
  {
   "cell_type": "code",
   "execution_count": 10,
   "metadata": {
    "collapsed": false
   },
   "outputs": [
    {
     "name": "stdout",
     "output_type": "stream",
     "text": [
      "Question #01\n",
      "Definition of OOP:\n",
      " \n",
      "Object-oriented language uses an object-oriented programming\n",
      "technique that binds related data and functions into an object\n",
      "and encourages reuse of these objects within the same and other\n",
      "programs.\n"
     ]
    }
   ],
   "source": [
    "Answer01 = \"\"\"\n",
    "Object-oriented language uses an object-oriented programming\n",
    "technique that binds related data and functions into an object\n",
    "and encourages reuse of these objects within the same and other\n",
    "programs.\"\"\"\n",
    "print(\"Question #01\")\n",
    "print(\"Definition of OOP:\\n\",Answer01)"
   ]
  },
  {
   "cell_type": "code",
   "execution_count": 9,
   "metadata": {
    "collapsed": false
   },
   "outputs": [
    {
     "name": "stdout",
     "output_type": "stream",
     "text": [
      "Question #02\n",
      "Advantages of OOP\n",
      " \n",
      "1.\tSimplicity: software objects model real world objects, so the complexity is reduced and the program structure is very clear; \n",
      "2.\tModularity: each object forms a separate entity whose internal workings are decoupled from other parts of the system; \n",
      "3.\tModifiability: it is easy to make minor changes in the data representation. Changes inside a class do not affect any other part of a program; \n",
      "4.\tMaintainability: objects can be maintained separately, making locating and fixing problems easier; \n",
      "5.\tRe-usability: objects can be reused in different programs\n"
     ]
    }
   ],
   "source": [
    "Answer02 = \"\"\"\n",
    "1.\tSimplicity: software objects model real world objects, so the complexity is reduced and the program structure is very clear; \n",
    "2.\tModularity: each object forms a separate entity whose internal workings are decoupled from other parts of the system; \n",
    "3.\tModifiability: it is easy to make minor changes in the data representation. Changes inside a class do not affect any other part of a program; \n",
    "4.\tMaintainability: objects can be maintained separately, making locating and fixing problems easier; \n",
    "5.\tRe-usability: objects can be reused in different programs\"\"\"\n",
    "print(\"Question #02\")\n",
    "print(\"Advantages of OOP\\n\",Answer02)"
   ]
  },
  {
   "cell_type": "code",
   "execution_count": 12,
   "metadata": {
    "collapsed": false
   },
   "outputs": [
    {
     "name": "stdout",
     "output_type": "stream",
     "text": [
      "Question #03\n",
      "Difference between Metohd & Function\n",
      " \n",
      "•\tSimply, function and method both look similar as they perform in almost similar way, but the key difference is the concept of ‘Class and its Object‘.\n",
      "•\tFunctions can be called only by its name, as it is defined independently. But methods can’t be called by its name only, we need to invoke the class by a reference of that class in which it is defined, i.e. method is defined within a class and hence they are dependent on that class.\n",
      "\n"
     ]
    }
   ],
   "source": [
    "Answer03 = \"\"\"\n",
    "•\tSimply, function and method both look similar as they perform in almost similar way, but the key difference is the concept of ‘Class and its Object‘.\n",
    "•\tFunctions can be called only by its name, as it is defined independently. But methods can’t be called by its name only, we need to invoke the class by a reference of that class in which it is defined, i.e. method is defined within a class and hence they are dependent on that class.\n",
    "\"\"\"\n",
    "print(\"Question #03\")\n",
    "print(\"Difference between Metohd & Function\\n\",Answer03)"
   ]
  },
  {
   "cell_type": "code",
   "execution_count": 13,
   "metadata": {
    "collapsed": false
   },
   "outputs": [
    {
     "name": "stdout",
     "output_type": "stream",
     "text": [
      "Question #04\n",
      "Definition of the following; Class, Object, Attribute, Behavior\n",
      " \n",
      "• Class: A class is a code template for creating objects. Objects have member variables and have behavior associated with them. In python a class is created by the keyword class.\n",
      "• Object: Object is simply a collection of data (variables) and methods (functions) that act on those data. And, class is a blueprint for the object.\n",
      "• Attribute: Attributes are data stored inside a class or instance and represent the state or quality of the class or instance. In short, attributes store information about the instance.\n",
      "• Behavior: Objects in Python are generally classified according to their behaviors and the features that they implement. For example, all of the sequence types such as strings, lists, and tuples are grouped together merely because they all happen to support a common set of sequence operations\n",
      "\n"
     ]
    }
   ],
   "source": [
    "Answer04 = \"\"\"\n",
    "• Class: A class is a code template for creating objects. Objects have member variables and have behavior associated with them. In python a class is created by the keyword class.\n",
    "• Object: Object is simply a collection of data (variables) and methods (functions) that act on those data. And, class is a blueprint for the object.\n",
    "• Attribute: Attributes are data stored inside a class or instance and represent the state or quality of the class or instance. In short, attributes store information about the instance.\n",
    "• Behavior: Objects in Python are generally classified according to their behaviors and the features that they implement. For example, all of the sequence types such as strings, lists, and tuples are grouped together merely because they all happen to support a common set of sequence operations\n",
    "\"\"\"\n",
    "print(\"Question #04\")\n",
    "print(\"Definition of the following; Class, Object, Attribute, Behavior\\n\",Answer04)"
   ]
  },
  {
   "cell_type": "code",
   "execution_count": 14,
   "metadata": {
    "collapsed": false
   },
   "outputs": [
    {
     "name": "stdout",
     "output_type": "stream",
     "text": [
      "Car company is: Chevrolet\n",
      "Car's name is: Corvette zr1\n",
      "Car's price is: $90,000\n"
     ]
    }
   ],
   "source": [
    "#Question 05\n",
    "class Car():\n",
    "    def  __init__(self, car_company, car_color, car_name, car_type, car_price):\n",
    "        self.car_company = car_company\n",
    "        self.car_color = car_color\n",
    "        self.car_name = car_name\n",
    "        self.car_type = car_type\n",
    "        self.car_price = car_price\n",
    "\n",
    "    def display_car_company(self):\n",
    "        print(\"Car company is:\", self.car_company)\n",
    "        \n",
    "    def display_car_name(self):\n",
    "        print(\"Car's name is:\", self.car_name)\n",
    "        \n",
    "    def display_car_price(self):\n",
    "        print(\"Car's price is:\", self.car_price)\n",
    "\n",
    "car1 = Car(\"Chevrolet\", \"Metallic Black\", \"Corvette zr1\", \"Exotic\", \"$90,000\")\n",
    "car2 = Car(\"Lamborghini\", \"Yellow\", \"Marcialago\", \"Exotic\", \"$354,000\")\n",
    "car3 = Car(\"Ferrari\", \"Red\", \"F-50\", \"Exotic\", \"$3.6 Million\")\n",
    "car4 = Car(\"McLaren\", \"Matte Black\", \"F1\", \"Exotic\", \"$21 Million\")\n",
    "car5 = Car(\"Porche\", \"White\", \"Carrera GT\", \"Exotic\", \"$448,000\")\n",
    "\n",
    "car1.display_car_company()\n",
    "car1.display_car_name()\n",
    "car1.display_car_price()\n"
   ]
  },
  {
   "cell_type": "code",
   "execution_count": 0,
   "metadata": {
    "collapsed": false
   },
   "outputs": [
   ],
   "source": [
   ]
  }
 ],
 "metadata": {
  "kernelspec": {
   "display_name": "Python 3 (system-wide)",
   "language": "python",
   "metadata": {
    "cocalc": {
     "description": "Python 3 programming language",
     "priority": 100,
     "url": "https://www.python.org/"
    }
   },
   "name": "python3"
  },
  "language_info": {
   "codemirror_mode": {
    "name": "ipython",
    "version": 3
   },
   "file_extension": ".py",
   "mimetype": "text/x-python",
   "name": "python",
   "nbconvert_exporter": "python",
   "pygments_lexer": "ipython3",
   "version": "3.6.9"
  }
 },
 "nbformat": 4,
 "nbformat_minor": 0
}