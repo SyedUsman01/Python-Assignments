{
 "cells": [
  {
   "cell_type": "code",
   "execution_count": 1,
   "metadata": {
    "cocalc": {
     "outputs": {
      "0": {
       "name": "input",
       "opts": {
        "password": false,
        "prompt": "Enter a number you want the factorial of \n"
       },
       "output_type": "stream",
       "value": "5"
      }
     }
    },
    "collapsed": false
   },
   "outputs": [
    {
     "name": "stdout",
     "output_type": "stream",
     "text": "Enter a number you want the factorial of \n 5"
    },
    {
     "name": "stdout",
     "output_type": "stream",
     "text": [
      "The factorial is 120\n"
     ]
    }
   ],
   "source": [
    "#Question #01\n",
    "def factorial(number):\n",
    "    if number == 0:\n",
    "        return 1\n",
    "    else:\n",
    "        return number * factorial(number-1)\n",
    "number = int(input(\"Enter a number you want the factorial of \\n\"))\n",
    "print(\"The factorial is\",factorial(number))"
   ]
  },
  {
   "cell_type": "code",
   "execution_count": 2,
   "metadata": {
    "collapsed": false
   },
   "outputs": [
    {
     "name": "stdout",
     "output_type": "stream",
     "text": [
      "The String Passed as an argument:  Somethings Are Better Left Unspoken.\n",
      "Number of uppercase characters in the sentance:  5\n",
      "Number of lowercase characters in the sentance:  26\n"
     ]
    }
   ],
   "source": [
    "#Question #02\n",
    "def stringShizzle(sentance):\n",
    "    diction = {\n",
    "        \"upper\":0,\n",
    "         \"lower\":0\n",
    "        }\n",
    "    for characters in sentance:\n",
    "        if characters.isupper():\n",
    "           diction[\"upper\"]+=1\n",
    "        elif characters.islower():\n",
    "           diction[\"lower\"]+=1\n",
    "        else:\n",
    "           pass\n",
    "    print (\"The String Passed as an argument: \", sentance)\n",
    "    print (\"Number of uppercase characters in the sentance: \", diction[\"upper\"])\n",
    "    print (\"Number of lowercase characters in the sentance: \", diction[\"lower\"])\n",
    "\n",
    "stringShizzle(\"Somethings Are Better Left Unspoken.\")\n",
    "\n"
   ]
  },
  {
   "cell_type": "code",
   "execution_count": 3,
   "metadata": {
    "collapsed": false
   },
   "outputs": [
    {
     "name": "stdout",
     "output_type": "stream",
     "text": [
      "The original list [1, 2, 3, 4, 5, 6, 7, 8]\n",
      "\n",
      "The even numbers from the list\n",
      "2 4 6 8 "
     ]
    }
   ],
   "source": [
    "#Question #03\n",
    "def evenNumber():\n",
    "    a = [1,2,3,4,5,6,7,8]\n",
    "    print(\"The original list\", a)\n",
    "    print(\"\\nThe even numbers from the list\")\n",
    "    for no in a:\n",
    "        if no % 2 == 0:\n",
    "            print(no, end = \" \")\n",
    "evenNumber()"
   ]
  },
  {
   "cell_type": "code",
   "execution_count": 4,
   "metadata": {
    "collapsed": false
   },
   "outputs": [
    {
     "name": "stdout",
     "output_type": "stream",
     "text": [
      "True\n"
     ]
    }
   ],
   "source": [
    "#Question #04\n",
    "def isItaPalindrome(word):\n",
    "\tleft_pos = 0\n",
    "\tright_pos = len(word) - 1\n",
    "\t\n",
    "\twhile right_pos >= left_pos:\n",
    "\t\tif not word[left_pos] == word[right_pos]:\n",
    "\t\t\treturn False\n",
    "\t\tleft_pos += 1\n",
    "\t\tright_pos -= 1\n",
    "\treturn True\n",
    "print(isItaPalindrome('pxxp'))"
   ]
  },
  {
   "cell_type": "code",
   "execution_count": 5,
   "metadata": {
    "collapsed": false
   },
   "outputs": [
    {
     "name": "stdout",
     "output_type": "stream",
     "text": [
      "True\n"
     ]
    }
   ],
   "source": [
    "#Question #05\n",
    "def if_prime(number):\n",
    "    if (number == 1):\n",
    "        return False\n",
    "    elif (number == 2):\n",
    "        return True;\n",
    "    else:\n",
    "        for x in range(2,number ):\n",
    "            if(number  % x == 0):\n",
    "                return False\n",
    "        return True\n",
    "\n",
    "print(if_prime(2))"
   ]
  },
  {
   "cell_type": "code",
   "execution_count": 6,
   "metadata": {
    "cocalc": {
     "outputs": {
      "0": {
       "name": "input",
       "opts": {
        "password": false,
        "prompt": "Enter your name: "
       },
       "output_type": "stream",
       "value": "Usman"
      }
     }
    },
    "collapsed": false
   },
   "outputs": [
    {
     "name": "stdout",
     "output_type": "stream",
     "text": "Enter your name:  Usman"
    },
    {
     "name": "stdout",
     "output_type": "stream",
     "text": [
      "Customer Name:  Usman\n",
      "\n",
      "List of Items: \n",
      "bread\n",
      "eggs\n",
      "milk\n",
      "shampoo\n",
      "facewash\n"
     ]
    }
   ],
   "source": [
    "#Question #06\n",
    "customer_name = input('Enter your name: ')\n",
    "def shopping_list(customer_name,*items):\n",
    "    print('Customer Name: ',customer_name)\n",
    "    print('\\nList of Items: ')\n",
    "    for item in items:\n",
    "        print(item)\n",
    "shopping_list(customer_name,'bread','eggs','milk','shampoo','facewash')"
   ]
  },
  {
   "cell_type": "code",
   "execution_count": 0,
   "metadata": {
    "collapsed": false
   },
   "outputs": [
   ],
   "source": [
   ]
  }
 ],
 "metadata": {
  "kernelspec": {
   "display_name": "Python 3 (system-wide)",
   "language": "python",
   "metadata": {
    "cocalc": {
     "description": "Python 3 programming language",
     "priority": 100,
     "url": "https://www.python.org/"
    }
   },
   "name": "python3"
  },
  "language_info": {
   "codemirror_mode": {
    "name": "ipython",
    "version": 3
   },
   "file_extension": ".py",
   "mimetype": "text/x-python",
   "name": "python",
   "nbconvert_exporter": "python",
   "pygments_lexer": "ipython3",
   "version": "3.6.9"
  }
 },
 "nbformat": 4,
 "nbformat_minor": 0
}