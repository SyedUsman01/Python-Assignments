{
 "cells": [
  {
   "cell_type": "code",
   "execution_count": 1,
   "metadata": {
    "cocalc": {
     "outputs": {
      "0": {
       "name": "input",
       "opts": {
        "password": false,
        "prompt": "Enter first name \n"
       },
       "output_type": "stream",
       "value": "Syed Usman"
      },
      "1": {
       "name": "input",
       "opts": {
        "password": false,
        "prompt": "Enter last name \n"
       },
       "output_type": "stream",
       "value": "Rehan"
      },
      "2": {
       "name": "input",
       "opts": {
        "password": false,
        "prompt": "Enter your age \n"
       },
       "output_type": "stream",
       "value": "22"
      },
      "3": {
       "name": "input",
       "opts": {
        "password": false,
        "prompt": "Enter your city \n"
       },
       "output_type": "stream",
       "value": "Karachi"
      },
      "5": {
       "name": "input",
       "opts": {
        "password": false,
        "prompt": "\nEnter updated qualification \n"
       },
       "output_type": "stream",
       "value": "Graduate"
      }
     }
    },
    "collapsed": false
   },
   "outputs": [
    {
     "name": "stdout",
     "output_type": "stream",
     "text": "Enter first name \n Syed Usman"
    },
    {
     "name": "stdout",
     "output_type": "stream",
     "text": "Enter last name \n Rehan"
    },
    {
     "name": "stdout",
     "output_type": "stream",
     "text": "Enter your age \n 22"
    },
    {
     "name": "stdout",
     "output_type": "stream",
     "text": "Enter your city \n Karachi"
    },
    {
     "name": "stdout",
     "output_type": "stream",
     "text": [
      "\n",
      "The Dictionary:\n",
      "first_name : Syed Usman\n",
      "last_name : Rehan\n",
      "age : 22\n",
      "city : Karachi\n",
      "qualification : Undergraduate\n"
     ]
    },
    {
     "name": "stdout",
     "output_type": "stream",
     "text": "\nEnter updated qualification \n Graduate"
    },
    {
     "name": "stdout",
     "output_type": "stream",
     "text": [
      "\n",
      "The Dictioanry after updated the qualification:\n",
      "first_name : Syed Usman\n",
      "last_name : Rehan\n",
      "age : 22\n",
      "city : Karachi\n",
      "qualification : Graduate\n"
     ]
    }
   ],
   "source": [
    "#PROGRAM 01\n",
    "a = input(\"Enter first name \\n\")\n",
    "b = input(\"Enter last name \\n\")\n",
    "c = input(\"Enter your age \\n\")\n",
    "d = input(\"Enter your city \\n\")\n",
    "\n",
    "information = {\n",
    "    \"first_name\" : a,\n",
    "    \"last_name\" : b,\n",
    "    \"age\": c,\n",
    "    \"city\": d \n",
    "    }\n",
    "information[\"qualification\"] = \"Undergraduate\"\n",
    "\n",
    "print(\"\\nThe Dictionary:\")\n",
    "for each_key, each_value in information.items():\n",
    "    print(each_key, \":\", each_value)\n",
    "    \n",
    "e = input(\"\\nEnter updated qualification \\n\")\n",
    "information[\"qualification\"] = e\n",
    "\n",
    "print(\"\\nThe Dictioanry after updated the qualification:\")\n",
    "for each_key, each_value in information.items():\n",
    "    print(each_key, \":\", each_value)"
   ]
  },
  {
   "cell_type": "code",
   "execution_count": 2,
   "metadata": {
    "collapsed": false
   },
   "outputs": [
    {
     "name": "stdout",
     "output_type": "stream",
     "text": [
      "\n",
      "Karachi is in Pakistan.\n",
      "The current population of Karachi is approximately 15 million\n",
      "Karachi Is Best Known For Being The Business Hub Of Pakistan And Its Called The City Of Lights.\n",
      "\n",
      "Toronto is in Canada.\n",
      "The current population of Toronto is 2.93 million\n",
      "It'S Home To A Dynamic Mix Of Tourist Attractions And Just A Short Drive Away Is Niagara Falls.\n",
      "\n",
      "Ankara is in Turkey.\n",
      "5.445 million (2018)\n",
      "The City Was Famous For Its Long-Haired Angora Goat And Its Prized Wool (Mohair).\n"
     ]
    }
   ],
   "source": [
    "#PROGRAM 02\n",
    "cities = {\n",
    "    'Karachi' : {\n",
    "            'country': 'Pakistan',\n",
    "            'population': 'The current population of Karachi is approximately 15 million',\n",
    "            'fact': 'Karachi is best known for being the business hub of Pakistan and its called the city of lights.',\n",
    "        },\n",
    "    'Toronto' : {\n",
    "            'country': 'Canada',\n",
    "            'population': 'The current population of Toronto is 2.93 million',\n",
    "            'fact':  \"It's home to a dynamic mix of tourist attractions and just a short drive away is Niagara Falls.\",\n",
    "        },\n",
    "    'Ankara': {\n",
    "            'country': 'Turkey',\n",
    "            'population': '5.445 million (2018)',\n",
    "            'fact': \"The city was famous for its long-haired Angora goat and its prized wool (mohair).\",\n",
    "        }\n",
    "    }\n",
    "\n",
    "for city, city_info in cities.items():\n",
    "    country = city_info['country'].title()\n",
    "    population = city_info['population']\n",
    "    fact = city_info['fact'].title()\n",
    "\n",
    "    print(\"\\n\" + city.title() + \" is in \" + country + \".\")\n",
    "    print(population)\n",
    "    print(fact)"
   ]
  },
  {
   "cell_type": "code",
   "execution_count": 3,
   "metadata": {
    "cocalc": {
     "outputs": {
      "0": {
       "name": "input",
       "opts": {
        "password": false,
        "prompt": "\nEnter 'quit' when you are finished. \nHow Old are you?\n"
       },
       "output_type": "stream",
       "value": "22"
      },
      "2": {
       "name": "input",
       "opts": {
        "password": false,
        "prompt": "\nEnter 'quit' when you are finished. \nHow Old are you?\n"
       },
       "output_type": "stream",
       "value": "quit"
      }
     }
    },
    "collapsed": false
   },
   "outputs": [
    {
     "name": "stdout",
     "output_type": "stream",
     "text": "\nEnter 'quit' when you are finished. \nHow Old are you?\n 22"
    },
    {
     "name": "stdout",
     "output_type": "stream",
     "text": [
      "  Your ticket is $15.\n"
     ]
    },
    {
     "name": "stdout",
     "output_type": "stream",
     "text": "\nEnter 'quit' when you are finished. \nHow Old are you?\n quit"
    }
   ],
   "source": [
    "#PROGRAM 03\n",
    "detail = \"\\nEnter 'quit' when you are finished. \" +\"\\n\"  +\"How Old are you?\" +\"\\n\"\n",
    "\n",
    "while True:\n",
    "    age = input(detail)\n",
    "    if age == 'quit':\n",
    "        break\n",
    "    age = int(age)\n",
    "\n",
    "    if age < 3:\n",
    "        print(\"  You get in free!\")\n",
    "    elif age < 13:\n",
    "        print(\"  Your ticket is $10.\")\n",
    "    else:\n",
    "        print(\"  Your ticket is $15.\")\n"
   ]
  },
  {
   "cell_type": "code",
   "execution_count": 4,
   "metadata": {
    "collapsed": false
   },
   "outputs": [
    {
     "name": "stdout",
     "output_type": "stream",
     "text": [
      "Alice In Wonderland\n"
     ]
    }
   ],
   "source": [
    "#PROGRAM 04\n",
    "def favotire_book(title):\n",
    "    if len(title) != 0:\n",
    "        title = title.title()\n",
    "        print(title)\n",
    "    else:\n",
    "        print(\"Invalid argument or syntax\")\n",
    "\n",
    "favotire_book(\"Alice in wonderland\")"
   ]
  },
  {
   "cell_type": "code",
   "execution_count": 5,
   "metadata": {
    "cocalc": {
     "outputs": {
      "0": {
       "name": "input",
       "opts": {
        "password": false,
        "prompt": "\nEnter a numbr between 1 and 30 \n"
       },
       "output_type": "stream",
       "value": "22"
      },
      "2": {
       "name": "input",
       "opts": {
        "password": false,
        "prompt": "\nEnter a numbr between 1 and 30 \n"
       },
       "output_type": "stream",
       "value": "15"
      },
      "4": {
       "name": "input",
       "opts": {
        "password": false,
        "prompt": "\nEnter a numbr between 1 and 30 \n"
       },
       "output_type": "stream",
       "value": "3"
      }
     }
    },
    "collapsed": false
   },
   "outputs": [
    {
     "name": "stdout",
     "output_type": "stream",
     "text": "\nEnter a numbr between 1 and 30 \n 22"
    },
    {
     "name": "stdout",
     "output_type": "stream",
     "text": [
      "User's input is greater than the random number\n"
     ]
    },
    {
     "name": "stdout",
     "output_type": "stream",
     "text": "\nEnter a numbr between 1 and 30 \n 15"
    },
    {
     "name": "stdout",
     "output_type": "stream",
     "text": [
      "User's input is greater than the random number\n"
     ]
    },
    {
     "name": "stdout",
     "output_type": "stream",
     "text": "\nEnter a numbr between 1 and 30 \n 3"
    },
    {
     "name": "stdout",
     "output_type": "stream",
     "text": [
      "User's  input is less than the random number\n"
     ]
    }
   ],
   "source": [
    "#PROGRAM 05\n",
    "import random\n",
    "\n",
    "counter = 0\n",
    "random_number = 0\n",
    "\n",
    "while counter < 3:\n",
    "    random_number = int(random.randrange(1,30))\n",
    "    num = int(input(\"\\nEnter a numbr between 1 and 30 \\n\"))\n",
    "    counter += 1\n",
    "    \n",
    "    if num == random_number:\n",
    "        print(\"The random number generated is equal to your input\")\n",
    "    elif num < random_number:\n",
    "        print(\"User's  input is less than the random number\")\n",
    "    elif num > random_number:\n",
    "        print(\"User's input is greater than the random number\")\n",
    "    else:\n",
    "        print(\"check your input\")\n"
   ]
  },
  {
   "cell_type": "code",
   "execution_count": 0,
   "metadata": {
    "collapsed": false
   },
   "outputs": [
   ],
   "source": [
   ]
  }
 ],
 "metadata": {
  "kernelspec": {
   "display_name": "Python 3 (system-wide)",
   "language": "python",
   "metadata": {
    "cocalc": {
     "description": "Python 3 programming language",
     "priority": 100,
     "url": "https://www.python.org/"
    }
   },
   "name": "python3"
  },
  "language_info": {
   "codemirror_mode": {
    "name": "ipython",
    "version": 3
   },
   "file_extension": ".py",
   "mimetype": "text/x-python",
   "name": "python",
   "nbconvert_exporter": "python",
   "pygments_lexer": "ipython3",
   "version": "3.6.8"
  }
 },
 "nbformat": 4,
 "nbformat_minor": 0
}